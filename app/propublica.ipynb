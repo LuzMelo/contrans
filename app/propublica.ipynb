{
 "cells": [
  {
   "cell_type": "code",
   "execution_count": 1,
   "id": "8a8f66ed-6299-401c-ae8d-4f2ae66b958d",
   "metadata": {},
   "outputs": [],
   "source": [
    "import pandas as pd\n",
    "import numpy as np\n",
    "import requests\n",
    "import json\n",
    "import os"
   ]
  },
  {
   "cell_type": "markdown",
   "id": "9c845043-2cb0-4ddf-ab6b-9320286db3e8",
   "metadata": {},
   "source": [
    "## Load ENV variables"
   ]
  },
  {
   "cell_type": "code",
   "execution_count": 2,
   "id": "942ac516-8b6d-44c9-94ac-ff1dcf124c95",
   "metadata": {
    "tags": []
   },
   "outputs": [],
   "source": [
    "propublica_token=os.environ['propublica_token']"
   ]
  },
  {
   "cell_type": "markdown",
   "id": "29d8f9ca-3863-4bc0-91e6-ec52fc1bc24c",
   "metadata": {
    "tags": []
   },
   "source": [
    "## Get uset agent string"
   ]
  },
  {
   "cell_type": "code",
   "execution_count": 3,
   "id": "a7939b9d-fe06-41ee-870b-f8892e353aed",
   "metadata": {},
   "outputs": [
    {
     "data": {
      "text/plain": [
       "'python-requests/2.28.1'"
      ]
     },
     "execution_count": 3,
     "metadata": {},
     "output_type": "execute_result"
    }
   ],
   "source": [
    "useragent_url = 'https://httpbin.org/user-agent'\n",
    "r = requests.get(useragent_url)\n",
    "useragent = json.loads(r.text)['user-agent']\n",
    "useragent"
   ]
  },
  {
   "cell_type": "markdown",
   "id": "a191ff35-bd25-4c43-9216-763eedd63413",
   "metadata": {},
   "source": [
    "## Define headers"
   ]
  },
  {
   "cell_type": "code",
   "execution_count": 4,
   "id": "d7a44a46-a581-44ee-9116-977a75e42c12",
   "metadata": {},
   "outputs": [],
   "source": [
    "headers={'X-API-Key': propublica_token,\n",
    "         'User-Agent': useragent,\n",
    "        'From': 'czj9zj@virginis.edu'}"
   ]
  },
  {
   "cell_type": "markdown",
   "id": "77095584-a217-4850-9fbf-7c53f6a98db8",
   "metadata": {},
   "source": [
    "## Member API"
   ]
  },
  {
   "cell_type": "code",
   "execution_count": 5,
   "id": "8eb50ab3-b49e-4e5d-904c-16b0a75f75bc",
   "metadata": {},
   "outputs": [],
   "source": [
    "root = 'https://api.propublica.org'\n",
    "\n",
    "congress = '117'\n",
    "\n",
    "chamber = 'house'\n",
    "\n",
    "endpoint='/congress/v1/117/{congress}/{chamber}/members.json'.format(congress=congress,\n",
    "                                                                     chamber=chamber)\n",
    "\n",
    "headers={'X-API-Key': pSropublica_token}\n",
    "\n",
    "r=requests.get(root+endpoint,\n",
    "               headers=headers)"
   ]
  },
  {
   "cell_type": "code",
   "execution_count": 9,
   "id": "67f05eb6-b431-472c-acb2-97ea1647b462",
   "metadata": {},
   "outputs": [
    {
     "ename": "KeyError",
     "evalue": "'results'",
     "output_type": "error",
     "traceback": [
      "\u001b[0;31m---------------------------------------------------------------------------\u001b[0m",
      "\u001b[0;31mKeyError\u001b[0m                                  Traceback (most recent call last)",
      "Cell \u001b[0;32mIn [9], line 2\u001b[0m\n\u001b[1;32m      1\u001b[0m myjson\u001b[38;5;241m=\u001b[39mjson\u001b[38;5;241m.\u001b[39mloads(r\u001b[38;5;241m.\u001b[39mtext)\n\u001b[0;32m----> 2\u001b[0m housemembers\u001b[38;5;241m=\u001b[39mpd\u001b[38;5;241m.\u001b[39mjson_normalize(myjson,record_path\u001b[38;5;241m=\u001b[39m[\u001b[38;5;124m'\u001b[39m\u001b[38;5;124mresults\u001b[39m\u001b[38;5;124m'\u001b[39m,\u001b[38;5;124m'\u001b[39m\u001b[38;5;124mmembers\u001b[39m\u001b[38;5;124m'\u001b[39m])\n\u001b[1;32m      3\u001b[0m housemembers\n",
      "File \u001b[0;32m/usr/local/lib/python3.10/site-packages/pandas/io/json/_normalize.py:515\u001b[0m, in \u001b[0;36m_json_normalize\u001b[0;34m(data, record_path, meta, meta_prefix, record_prefix, errors, sep, max_level)\u001b[0m\n\u001b[1;32m    512\u001b[0m                 meta_vals[key]\u001b[38;5;241m.\u001b[39mappend(meta_val)\n\u001b[1;32m    513\u001b[0m             records\u001b[38;5;241m.\u001b[39mextend(recs)\n\u001b[0;32m--> 515\u001b[0m \u001b[43m_recursive_extract\u001b[49m\u001b[43m(\u001b[49m\u001b[43mdata\u001b[49m\u001b[43m,\u001b[49m\u001b[43m \u001b[49m\u001b[43mrecord_path\u001b[49m\u001b[43m,\u001b[49m\u001b[43m \u001b[49m\u001b[43m{\u001b[49m\u001b[43m}\u001b[49m\u001b[43m,\u001b[49m\u001b[43m \u001b[49m\u001b[43mlevel\u001b[49m\u001b[38;5;241;43m=\u001b[39;49m\u001b[38;5;241;43m0\u001b[39;49m\u001b[43m)\u001b[49m\n\u001b[1;32m    517\u001b[0m result \u001b[38;5;241m=\u001b[39m DataFrame(records)\n\u001b[1;32m    519\u001b[0m \u001b[38;5;28;01mif\u001b[39;00m record_prefix \u001b[38;5;129;01mis\u001b[39;00m \u001b[38;5;129;01mnot\u001b[39;00m \u001b[38;5;28;01mNone\u001b[39;00m:\n\u001b[1;32m    520\u001b[0m     \u001b[38;5;66;03m# Incompatible types in assignment (expression has type \"Optional[DataFrame]\",\u001b[39;00m\n\u001b[1;32m    521\u001b[0m     \u001b[38;5;66;03m# variable has type \"DataFrame\")\u001b[39;00m\n",
      "File \u001b[0;32m/usr/local/lib/python3.10/site-packages/pandas/io/json/_normalize.py:494\u001b[0m, in \u001b[0;36m_json_normalize.<locals>._recursive_extract\u001b[0;34m(data, path, seen_meta, level)\u001b[0m\n\u001b[1;32m    491\u001b[0m             \u001b[38;5;28;01mif\u001b[39;00m level \u001b[38;5;241m+\u001b[39m \u001b[38;5;241m1\u001b[39m \u001b[38;5;241m==\u001b[39m \u001b[38;5;28mlen\u001b[39m(val):\n\u001b[1;32m    492\u001b[0m                 seen_meta[key] \u001b[38;5;241m=\u001b[39m _pull_field(obj, val[\u001b[38;5;241m-\u001b[39m\u001b[38;5;241m1\u001b[39m])\n\u001b[0;32m--> 494\u001b[0m         _recursive_extract(\u001b[43mobj\u001b[49m\u001b[43m[\u001b[49m\u001b[43mpath\u001b[49m\u001b[43m[\u001b[49m\u001b[38;5;241;43m0\u001b[39;49m\u001b[43m]\u001b[49m\u001b[43m]\u001b[49m, path[\u001b[38;5;241m1\u001b[39m:], seen_meta, level\u001b[38;5;241m=\u001b[39mlevel \u001b[38;5;241m+\u001b[39m \u001b[38;5;241m1\u001b[39m)\n\u001b[1;32m    495\u001b[0m \u001b[38;5;28;01melse\u001b[39;00m:\n\u001b[1;32m    496\u001b[0m     \u001b[38;5;28;01mfor\u001b[39;00m obj \u001b[38;5;129;01min\u001b[39;00m data:\n",
      "\u001b[0;31mKeyError\u001b[0m: 'results'"
     ]
    }
   ],
   "source": [
    "myjson=json.loads(r.text)\n",
    "housemembers=pd.json_normalize(myjson,record_path=['results','members'])\n",
    "housemembers"
   ]
  },
  {
   "cell_type": "code",
   "execution_count": null,
   "id": "9e01e48b-8ea3-4345-9bc8-697f6fc7b598",
   "metadata": {},
   "outputs": [],
   "source": [
    "root = 'https://api.propublica.org'\n",
    "\n",
    "congress = '117'\n",
    "\n",
    "chamber = 'house'\n",
    "\n",
    "billsendpoint='/congress/v1/117/{congress}/{chamber}/members.json'.format(congress=congress,\n",
    "                                                                     chamber=chamber)\n",
    "\n",
    "headers={'X-API-Key': propublica_token}\n",
    "\n",
    "r=requests.get(root+endpoint,\n",
    "               headers=headers)"
   ]
  },
  {
   "cell_type": "markdown",
   "id": "638e57e0-92e8-469f-b0b8-ed07474dbf1f",
   "metadata": {},
   "source": [
    "## Bills API"
   ]
  },
  {
   "cell_type": "code",
   "execution_count": 7,
   "id": "caa17981-8b2a-402a-9831-42d0c12b5112",
   "metadata": {},
   "outputs": [
    {
     "ename": "NameError",
     "evalue": "name 'request' is not defined",
     "output_type": "error",
     "traceback": [
      "\u001b[0;31m---------------------------------------------------------------------------\u001b[0m",
      "\u001b[0;31mNameError\u001b[0m                                 Traceback (most recent call last)",
      "Cell \u001b[0;32mIn [7], line 5\u001b[0m\n\u001b[1;32m      1\u001b[0m billsendpoint\u001b[38;5;241m=\u001b[39m\u001b[38;5;124m'\u001b[39m\u001b[38;5;124m/congress/v1/bills/search.json\u001b[39m\u001b[38;5;124m'\u001b[39m\n\u001b[1;32m      3\u001b[0m myparams \u001b[38;5;241m=\u001b[39m {\u001b[38;5;124m'\u001b[39m\u001b[38;5;124mquery\u001b[39m\u001b[38;5;124m'\u001b[39m: \u001b[38;5;124m'\u001b[39m\u001b[38;5;124mhigher education\u001b[39m\u001b[38;5;124m'\u001b[39m}\n\u001b[0;32m----> 5\u001b[0m r \u001b[38;5;241m=\u001b[39m request\u001b[38;5;241m.\u001b[39mget(root \u001b[38;5;241m+\u001b[39m billsendpoint,\n\u001b[1;32m      6\u001b[0m                 headers \u001b[38;5;241m=\u001b[39m headers,\n\u001b[1;32m      7\u001b[0m                 params \u001b[38;5;241m=\u001b[39m myparams)\n\u001b[1;32m      8\u001b[0m r\n",
      "\u001b[0;31mNameError\u001b[0m: name 'request' is not defined"
     ]
    }
   ],
   "source": [
    "billsendpoint='/congress/v1/bills/search.json'\n",
    "\n",
    "myparams = {'query': 'higher education'}\n",
    "\n",
    "r = request.get(root + billsendpoint,\n",
    "                headers = headers,\n",
    "                params = myparams)\n",
    "r"
   ]
  },
  {
   "cell_type": "code",
   "execution_count": 8,
   "id": "702454e3-d2f2-4259-82cc-ae596fb5de92",
   "metadata": {},
   "outputs": [
    {
     "ename": "KeyError",
     "evalue": "'results'",
     "output_type": "error",
     "traceback": [
      "\u001b[0;31m---------------------------------------------------------------------------\u001b[0m",
      "\u001b[0;31mKeyError\u001b[0m                                  Traceback (most recent call last)",
      "Cell \u001b[0;32mIn [8], line 3\u001b[0m\n\u001b[1;32m      1\u001b[0m myjson \u001b[38;5;241m=\u001b[39m json\u001b[38;5;241m.\u001b[39mloads(r\u001b[38;5;241m.\u001b[39mtext)\n\u001b[0;32m----> 3\u001b[0m myjson[\u001b[38;5;124m'\u001b[39m\u001b[38;5;124mresults\u001b[39m\u001b[38;5;124m'\u001b[39m][\u001b[38;5;241m0\u001b[39m][\u001b[38;5;124m'\u001b[39m\u001b[38;5;124mbills\u001b[39m\u001b[38;5;124m'\u001b[39m]\n\u001b[1;32m      5\u001b[0m billsdf \u001b[38;5;241m=\u001b[39m pd\u001b[38;5;241m.\u001b[39mjson_normalize(myjson, record_path \u001b[38;5;241m=\u001b[39m [\u001b[38;5;124m'\u001b[39m\u001b[38;5;124mresults\u001b[39m\u001b[38;5;124m'\u001b[39m,\u001b[38;5;241m0\u001b[39m,\u001b[38;5;124m'\u001b[39m\u001b[38;5;124mbills\u001b[39m\u001b[38;5;124m'\u001b[39m])\n\u001b[1;32m      6\u001b[0m billsdf\n",
      "\u001b[0;31mKeyError\u001b[0m: 'results'"
     ]
    }
   ],
   "source": [
    "myjson = json.loads(r.text)\n",
    "\n",
    "myjson['results'][0]['bills']\n",
    "\n",
    "billsdf = pd.json_normalize(myjson, record_path = ['results',0,'bills'])\n",
    "billsdf"
   ]
  },
  {
   "cell_type": "markdown",
   "id": "2818a177-d296-48b0-80c5-93032d5b4505",
   "metadata": {},
   "source": [
    "## Votes"
   ]
  },
  {
   "cell_type": "code",
   "execution_count": 14,
   "id": "32e640ce-ab5b-45e2-8659-60d5eca6d7bd",
   "metadata": {},
   "outputs": [
    {
     "ename": "NameError",
     "evalue": "name 'request' is not defined",
     "output_type": "error",
     "traceback": [
      "\u001b[1;31m---------------------------------------------------------------------------\u001b[0m",
      "\u001b[1;31mNameError\u001b[0m                                 Traceback (most recent call last)",
      "Input \u001b[1;32mIn [14]\u001b[0m, in \u001b[0;36m<cell line: 5>\u001b[1;34m()\u001b[0m\n\u001b[0;32m      1\u001b[0m billsendpoint\u001b[38;5;241m=\u001b[39m\u001b[38;5;124m'\u001b[39m\u001b[38;5;124m/congress/v1/bills/search.json\u001b[39m\u001b[38;5;124m'\u001b[39m\n\u001b[0;32m      3\u001b[0m myparams \u001b[38;5;241m=\u001b[39m {\u001b[38;5;124m'\u001b[39m\u001b[38;5;124mquery\u001b[39m\u001b[38;5;124m'\u001b[39m: \u001b[38;5;124m'\u001b[39m\u001b[38;5;124mhigher education\u001b[39m\u001b[38;5;124m'\u001b[39m}\n\u001b[1;32m----> 5\u001b[0m r \u001b[38;5;241m=\u001b[39m \u001b[43mrequest\u001b[49m\u001b[38;5;241m.\u001b[39mget(root \u001b[38;5;241m+\u001b[39m billsendpoint,\n\u001b[0;32m      6\u001b[0m                 headers \u001b[38;5;241m=\u001b[39m headers,\n\u001b[0;32m      7\u001b[0m                 params \u001b[38;5;241m=\u001b[39m myparams)\n\u001b[0;32m      8\u001b[0m r\n",
      "\u001b[1;31mNameError\u001b[0m: name 'request' is not defined"
     ]
    }
   ],
   "source": [
    "billsendpoint='/congress/v1/bills/search.json'\n",
    "\n",
    "myparams = {'query': 'higher education'}\n",
    "\n",
    "r = request.get(root + billsendpoint,\n",
    "                headers = headers,\n",
    "                params = myparams)\n",
    "r"
   ]
  },
  {
   "cell_type": "code",
   "execution_count": 15,
   "id": "d0943918-0b8b-4419-9899-7740abd9a627",
   "metadata": {},
   "outputs": [
    {
     "ename": "SyntaxError",
     "evalue": "unexpected EOF while parsing (1505421325.py, line 2)",
     "output_type": "error",
     "traceback": [
      "\u001b[1;36m  Input \u001b[1;32mIn [15]\u001b[1;36m\u001b[0m\n\u001b[1;33m    voesdf = pd.json_normalize(myjson, record_path = ['results', 'votes']\u001b[0m\n\u001b[1;37m                                                                         ^\u001b[0m\n\u001b[1;31mSyntaxError\u001b[0m\u001b[1;31m:\u001b[0m unexpected EOF while parsing\n"
     ]
    }
   ],
   "source": [
    "myjson - json.loads(r.text)\n",
    "voesdf = pd.json_normalize(myjson, record_path = ['results', 'votes']"
   ]
  },
  {
   "cell_type": "code",
   "execution_count": null,
   "id": "48cbd50b-e759-4d09-854f-e943acbf6f6a",
   "metadata": {},
   "outputs": [],
   "source": []
  }
 ],
 "metadata": {
  "kernelspec": {
   "display_name": "Python 3 (ipykernel)",
   "language": "python",
   "name": "python3"
  },
  "language_info": {
   "codemirror_mode": {
    "name": "ipython",
    "version": 3
   },
   "file_extension": ".py",
   "mimetype": "text/x-python",
   "name": "python",
   "nbconvert_exporter": "python",
   "pygments_lexer": "ipython3",
   "version": "3.8.13"
  }
 },
 "nbformat": 4,
 "nbformat_minor": 5
}
